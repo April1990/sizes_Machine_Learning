{
 "cells": [
  {
   "cell_type": "code",
   "execution_count": null,
   "outputs": [],
   "source": [
    "from tkinter import  *\n",
    "from tkinter_templates.tkinter import window\n",
    "from sklearn.model_selection import train_test_split\n",
    "from sklearn.tree import DecisionTreeClassifier\n",
    "from  sklearn.neighbors import KNeighborsClassifier\n",
    "import pandas as pd\n",
    "import numpy as np\n",
    "\n",
    "dataset = pd.read_csv(r'csv/modified_male_female.csv')\n",
    "dataset.loc[dataset['gender'] == 'Male', 'gender'] = 0\n",
    "dataset.loc[dataset['gender'] == 'Female', 'gender'] = 1\n",
    "\n",
    "X = dataset.drop('size', axis = 1).values\n",
    "y = dataset['size'].values\n",
    "\n",
    "X_train, X_test, y_train, y_test = train_test_split(X, y, random_state = 42, test_size = .5)\n",
    "\n",
    "knn = KNeighborsClassifier(n_neighbors=30)\n",
    "tree = DecisionTreeClassifier()\n",
    "tree.fit(X_train, y_train)\n",
    "\n",
    "\n",
    "def prediction():\n",
    "    height1 = entry1.get()\n",
    "    height2 = int(height1)\n",
    "\n",
    "    weight1 = entry2.get()\n",
    "    weight2 = int(weight1)\n",
    "\n",
    "    gender1 = entry3.get()\n",
    "    gender2 = int(gender1)\n",
    "\n",
    "    knn_variables = np.array([[height2, weight2, gender2]])\n",
    "    knn_size = tree.predict(knn_variables)\n",
    "    knn_size = str(knn_size)\n",
    "\n",
    "    tree_variables = np.array([[height2, weight2, gender2]])\n",
    "    tree_size = tree.predict(tree_variables)\n",
    "    tree_size = str(tree_size)\n",
    "\n",
    "    entry1.delete(0, END)\n",
    "    entry2.delete(0, END)\n",
    "    entry3.delete(0, END)\n",
    "\n",
    "\n",
    "    prediction_label = Label(window, text = f'Height()cm={height2}, Weight(kg)={weight2}\\n'\n",
    "                                            f'KNN size prediction is  {knn_size} \\n'\n",
    "                                     f' Decission Tree size prediction is {tree_size}',\n",
    "                             fg='green', font=('Courier', 20))\n",
    "    prediction_label.pack()\n",
    "\n",
    "    button2 = Button(window, text = 'Clear', command = lambda: prediction_label.destroy(),\n",
    "                     font=('Courier', 20))\n",
    "    button2.pack()\n",
    "\n",
    "window.geometry('800x500')\n",
    "window.title('Template Window')\n",
    "\n",
    "label1 = Label(window, text='Please enter your height in cm', font=('Courier', 20))\n",
    "label1.pack()\n",
    "height = StringVar()\n",
    "height.set('')\n",
    "entry1 = Entry(window, textvariable=height, fg='violet', font=('Courier', 20))\n",
    "entry1.pack()\n",
    "\n",
    "\n",
    "label2 = Label(window, text='Please enter your weight in kg', font=('Courier', 20))\n",
    "label2.pack()\n",
    "weight = StringVar()\n",
    "weight.set('')\n",
    "entry2 = Entry(window, textvariable=weight, fg='violet', font=('Courier', 20))\n",
    "entry2.pack()\n",
    "\n",
    "label3 = Label(window, text='Press 0 for Male or 1 for Female', font=('Courier', 20))\n",
    "label3.pack()\n",
    "gender = StringVar()\n",
    "gender.set('')\n",
    "entry3 = Entry(window, textvariable=gender, fg='violet', font=('Courier', 20))\n",
    "entry3.pack()\n",
    "\n",
    "button1 = Button(window, text = 'predict', font=('Courier', 20))\n",
    "button1.pack()\n",
    "button1.config(command = prediction)\n",
    "\n",
    "\n",
    "window.mainloop()"
   ],
   "metadata": {
    "collapsed": false,
    "pycharm": {
     "name": "#%%\n"
    }
   }
  },
  {
   "cell_type": "code",
   "execution_count": null,
   "outputs": [],
   "source": [],
   "metadata": {
    "collapsed": false,
    "pycharm": {
     "name": "#%%\n"
    }
   }
  }
 ],
 "metadata": {
  "kernelspec": {
   "display_name": "Python 3",
   "language": "python",
   "name": "python3"
  },
  "language_info": {
   "codemirror_mode": {
    "name": "ipython",
    "version": 2
   },
   "file_extension": ".py",
   "mimetype": "text/x-python",
   "name": "python",
   "nbconvert_exporter": "python",
   "pygments_lexer": "ipython2",
   "version": "2.7.6"
  }
 },
 "nbformat": 4,
 "nbformat_minor": 0
}