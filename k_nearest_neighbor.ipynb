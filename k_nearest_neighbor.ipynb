{
 "cells": [
  {
   "cell_type": "code",
   "execution_count": 1,
   "outputs": [],
   "source": [
    "from tkinter import  *\n",
    "from tkinter_templates.tkinter import window\n",
    "from sklearn.model_selection import train_test_split\n",
    "from  sklearn.neighbors import KNeighborsClassifier\n",
    "import pandas as pd\n",
    "import numpy as np\n",
    "\n",
    "dataset = pd.read_csv(r'csv/modified_male_female.csv')\n",
    "dataset.loc[dataset['gender'] == 'Male', 'gender'] = 0\n",
    "dataset.loc[dataset['gender'] == 'Female', 'gender'] = 1\n",
    "\n",
    "X = dataset.drop('size', axis = 1).values\n",
    "y = dataset['size'].values\n",
    "\n",
    "X_train, X_test, y_train, y_test = train_test_split(X, y, random_state = 42, test_size = .5)\n",
    "\n",
    "knn = KNeighborsClassifier(n_neighbors=3)\n",
    "knn.fit(X_train, y_train)\n",
    "\n",
    "\n",
    "\n",
    "def model_pred():\n",
    "    height1 = entry1.get()\n",
    "    height = int(height1)\n",
    "\n",
    "    weight1 = entry2.get()\n",
    "    weight = int(weight1)\n",
    "\n",
    "    gender1 = entry3.get()\n",
    "    gender = int(gender1)\n",
    "\n",
    "    trans_variable = np.array([[height, weight, gender]])\n",
    "    pred_size = knn.predict(trans_variable)\n",
    "    pred_size = str(pred_size)\n",
    "\n",
    "    button1 = Label(window, text = pred_size, font=('Courier', 15))\n",
    "    button1.pack()\n",
    "\n",
    "\n",
    "window.geometry('600x500')\n",
    "window.title('Template Window')\n",
    "\n",
    "label1 = Label(window, text='Please enter your height in cm', font=('Courier', 15))\n",
    "label1.pack()\n",
    "height = StringVar()\n",
    "height.set('')\n",
    "entry1 = Entry(window, textvariable=height, fg='green', font=('Courier', 20))\n",
    "entry1.pack()\n",
    "\n",
    "\n",
    "label2 = Label(window, text='Please enter your weight in kg', font=('Courier', 15))\n",
    "label2.pack()\n",
    "weight = StringVar()\n",
    "weight.set('')\n",
    "entry2 = Entry(window, textvariable=weight, fg='green', font=('Courier', 20))\n",
    "entry2.pack()\n",
    "\n",
    "label3 = Label(window, text='Press 1 for Male or 0 for Female', font=('Courier', 15))\n",
    "label3.pack()\n",
    "gender = StringVar()\n",
    "gender.set('')\n",
    "entry3 = Entry(window, textvariable=gender, fg='green', font=('Courier', 20))\n",
    "entry3.pack()\n",
    "\n",
    "button1 = Button(window, text = 'predict', font=('Courier', 15))\n",
    "button1.pack()\n",
    "button1.config(command = model_pred)\n",
    "\n",
    "\n",
    "window.mainloop()"
   ],
   "metadata": {
    "collapsed": false,
    "pycharm": {
     "name": "#%%\n"
    }
   }
  },
  {
   "cell_type": "code",
   "execution_count": 82,
   "outputs": [],
   "source": [],
   "metadata": {
    "collapsed": false,
    "pycharm": {
     "name": "#%%\n"
    }
   }
  }
 ],
 "metadata": {
  "kernelspec": {
   "display_name": "Python 3",
   "language": "python",
   "name": "python3"
  },
  "language_info": {
   "codemirror_mode": {
    "name": "ipython",
    "version": 2
   },
   "file_extension": ".py",
   "mimetype": "text/x-python",
   "name": "python",
   "nbconvert_exporter": "python",
   "pygments_lexer": "ipython2",
   "version": "2.7.6"
  }
 },
 "nbformat": 4,
 "nbformat_minor": 0
}